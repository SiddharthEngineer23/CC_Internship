{
 "cells": [
  {
   "cell_type": "code",
   "execution_count": 1,
   "source": [
    "import tabula\r\n",
    "import numpy\r\n",
    "import pandas as pd"
   ],
   "outputs": [],
   "metadata": {}
  },
  {
   "cell_type": "code",
   "execution_count": 11,
   "source": [
    "df20 = pd.read_excel('2020 issuance.xlsx')\r\n",
    "df19 = pd.read_excel('2019 issuance.xlsx')\r\n",
    "df18 = pd.read_excel('2018 issuance.xlsx')\r\n",
    "df21 = pd.read_excel('2021 issuance.xlsx')\r\n",
    "\r\n",
    "df20['BICS Level 1'] = df20['BICS Level 1'].astype(str)"
   ],
   "outputs": [],
   "metadata": {}
  },
  {
   "cell_type": "code",
   "execution_count": 13,
   "source": [
    "for i in range(len(df20)):\r\n",
    "    name = df20.at[i, 'Issuer Name']\r\n",
    "    print(name)\r\n",
    "    if(df19['Issuer Name'].str.contains(name).any()):\r\n",
    "        index = df19[df19['Issuer Name'].str.contains(name)].index.values[0]\r\n",
    "        print(index)\r\n",
    "        sector = df19.at[index, 'BICS Level 1']\r\n",
    "        print(sector)\r\n",
    "        df20.at[i, 'BICS Level 1'] = sector\r\n",
    "    elif(df18['Issuer Name'].str.contains(name).any()):\r\n",
    "        index = df18[df18['Issuer Name'].str.contains(name)].index.values[0]\r\n",
    "        print(index)\r\n",
    "        sector = df18.at[index, 'BICS Level 1']\r\n",
    "        print(sector)\r\n",
    "        df20.at[i, 'BICS Level 1'] = sector\r\n",
    "    elif(df21['Issuer Name'].str.contains(name).any()):\r\n",
    "        index = df21[df21['Issuer Name'].str.contains(name)].index.values[0]\r\n",
    "        print(index)\r\n",
    "        sector = df21.at[index, 'BICS Level 1']\r\n",
    "        print(sector)\r\n",
    "        df20.at[i, 'BICS Level 1'] = sector"
   ],
   "outputs": [
    {
     "output_type": "error",
     "ename": "SyntaxError",
     "evalue": "invalid syntax (<ipython-input-13-1eaf267cd297>, line 10)",
     "traceback": [
      "\u001b[1;36m  File \u001b[1;32m\"<ipython-input-13-1eaf267cd297>\"\u001b[1;36m, line \u001b[1;32m10\u001b[0m\n\u001b[1;33m    else if(df18['Issuer Name'].str.contains(name).any()):\u001b[0m\n\u001b[1;37m          ^\u001b[0m\n\u001b[1;31mSyntaxError\u001b[0m\u001b[1;31m:\u001b[0m invalid syntax\n"
     ]
    }
   ],
   "metadata": {}
  },
  {
   "cell_type": "code",
   "execution_count": 5,
   "source": [
    "df20.to_excel('2020 issuance new.xlsx', index=False)"
   ],
   "outputs": [],
   "metadata": {}
  }
 ],
 "metadata": {
  "orig_nbformat": 4,
  "language_info": {
   "name": "python"
  }
 },
 "nbformat": 4,
 "nbformat_minor": 2
}